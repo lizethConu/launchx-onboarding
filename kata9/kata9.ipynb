{
 "cells": [
  {
   "cell_type": "markdown",
   "metadata": {},
   "source": [
    "#Ejercicio 1: Trabajar con argumentos en funciones"
   ]
  },
  {
   "cell_type": "code",
   "execution_count": 18,
   "metadata": {},
   "outputs": [
    {
     "name": "stdout",
     "output_type": "stream",
     "text": [
      "Fuel Report:\n",
      "    Total Average: 66.66666666666667%\n",
      "    Main tank: 80%\n",
      "    External tank: 50%\n",
      "    Hydrogen tank: 70% \n",
      "    \n"
     ]
    }
   ],
   "source": [
    "# Función para leer 3 tanques de combustible y muestre el promedio\n",
    "def  reporte(tanque1,tanque2,tanque3):\n",
    "    return print(f\"\"\"Fuel Report:\n",
    "    Total Average: {promedio([tanque1,tanque2,tanque3])}%\n",
    "    Main tank: {tanque1}%\n",
    "    External tank: {tanque2}%\n",
    "    Hydrogen tank: {tanque3}% \n",
    "    \"\"\")\n",
    "\n",
    "# Función promedio \n",
    "def promedio(values):\n",
    "    return sum(values)/len(values)\n",
    "\n",
    "# Llamamos a la función que genera el reporte print(funcion(tanque1, tanque2, tanque3))\n",
    "reporte(80,50,70)"
   ]
  },
  {
   "cell_type": "markdown",
   "metadata": {},
   "source": [
    "Ejercicio 2: Trabajo con argumentos de palabra clave"
   ]
  },
  {
   "cell_type": "code",
   "execution_count": 26,
   "metadata": {},
   "outputs": [
    {
     "name": "stdout",
     "output_type": "stream",
     "text": [
      "\n",
      "    destino a Moon\n",
      "    Total de tiempo: 65 minutos\n",
      "    Total de combustible: 500000 litros\n",
      "    \n",
      "\n",
      "    destino a Moon\n",
      "    total de tiempo: 134 minutes\n",
      "    total de combustible: 500000\n",
      "    main tiene 300000 litros\n",
      "external tiene 200000 litros\n",
      "\n"
     ]
    }
   ],
   "source": [
    "# Función con un informe preciso de la misión. Considera hora de prelanzamiento, tiempo de vuelo, destino, tanque externo y tanque interno\n",
    "def informe(prelanzamiento,tiempo_vuelo,destino,tanque_interno,tanque_externo):\n",
    "    return f\"\"\"\n",
    "    destino a {destino}\n",
    "    Total de tiempo: {prelanzamiento + tiempo_vuelo} minutos\n",
    "    Total de combustible: {tanque_interno + tanque_externo} litros\n",
    "    \"\"\"\n",
    "print(informe(14, 51, \"Moon\", 200000, 300000))\n",
    "\n",
    "# Escribe tu nueva función\n",
    "def reporte_mision(destino, *minutos, **tanques):\n",
    "    main_report = f\"\"\"\n",
    "    destino a {destino}\n",
    "    total de tiempo: {sum(minutos)} minutes\n",
    "    total de combustible: {sum(tanques.values())}\n",
    "    \"\"\"\n",
    "    return main_report\n",
    "\n",
    "# Escribe tu nueva función\n",
    "def reporte_mision2(destino, *minutos, **tanques):\n",
    "    main_report = f\"\"\"\n",
    "    destino a {destino}\n",
    "    total de tiempo: {sum(minutos)} minutes\n",
    "    total de combustible: {sum(tanques.values())}\n",
    "    \"\"\"\n",
    "    for nombre_tanque, litros in tanques.items():\n",
    "        main_report += f\"{nombre_tanque} tiene {litros} litros\\n\"\n",
    "    return main_report\n",
    "\n",
    "print(reporte_mision2(\"Moon\", 8, 11, 55,60, main=300000, external=200000))"
   ]
  }
 ],
 "metadata": {
  "interpreter": {
   "hash": "6b2a987075f3744d1a9eebf2fd6b26628d6b796ff7d38fa70ab961f560a3395e"
  },
  "kernelspec": {
   "display_name": "Python 3.10.2 64-bit (windows store)",
   "language": "python",
   "name": "python3"
  },
  "language_info": {
   "codemirror_mode": {
    "name": "ipython",
    "version": 3
   },
   "file_extension": ".py",
   "mimetype": "text/x-python",
   "name": "python",
   "nbconvert_exporter": "python",
   "pygments_lexer": "ipython3",
   "version": "3.10.2"
  },
  "orig_nbformat": 4
 },
 "nbformat": 4,
 "nbformat_minor": 2
}
