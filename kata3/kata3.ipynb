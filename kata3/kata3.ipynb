{
 "cells": [
  {
   "cell_type": "markdown",
   "metadata": {},
   "source": [
    "#Escribir declaraciones if, else, y elif"
   ]
  },
  {
   "cell_type": "markdown",
   "metadata": {},
   "source": [
    "La velocidad del asteroide varía dependiendo de lo cerca que esté del sol, y cualquier velocidad superior a 25 kilómetros por segundo (km/s) merece una advertencia.\n",
    "\n",
    "Un asteroide se acerca, y viaja a una velocidad de 49 km/s."
   ]
  },
  {
   "cell_type": "code",
   "execution_count": 2,
   "metadata": {},
   "outputs": [
    {
     "name": "stdout",
     "output_type": "stream",
     "text": [
      "ALERTA ASTEROIDE EN CAMINO\n"
     ]
    }
   ],
   "source": [
    "velocidad_asteroide = 49\n",
    "if velocidad_asteroide > 25:\n",
    "    print(\"ALERTA ASTEROIDE EN CAMINO\")\n",
    "else:\n",
    "    print(\"TODO BIEN MANTENER LA CALMA\")"
   ]
  },
  {
   "cell_type": "markdown",
   "metadata": {},
   "source": [
    "Si un asteroide entra en la atmósfera de la Tierra a una velocidad mayor o igual a 20 km/s, a veces produce un rayo de luz que se puede ver desde la Tierra. Escribe la lógica condicional que usa declaraciones if, else, y elif para alertar a las personas de todo el mundo que deben buscar un asteroide en el cielo. ¡Hay uno que se dirige a la tierra ahora a una velocidad de 19 km/s!"
   ]
  },
  {
   "cell_type": "code",
   "execution_count": 3,
   "metadata": {},
   "outputs": [
    {
     "name": "stdout",
     "output_type": "stream",
     "text": [
      "ASTEROIDE NO VISIBLE\n"
     ]
    }
   ],
   "source": [
    "velocidad_asteroide= 19\n",
    "if velocidad_asteroide >=20:\n",
    "    print( \"ASTEROIDE VISIBLE\")\n",
    "else:\n",
    "    print(\"ASTEROIDE NO VISIBLE\")"
   ]
  },
  {
   "cell_type": "markdown",
   "metadata": {},
   "source": [
    "#Ejercicio: Uso de operadores and y or"
   ]
  },
  {
   "cell_type": "markdown",
   "metadata": {},
   "source": [
    "*Los asteroides de menos de 25 metros en su dimensión más grande probablemente se quemarán a medida que entren en la atmósfera de la Tierra.\n",
    "\n",
    "Si una pieza de un asteroide que es más grande que 25 metros pero más pequeña que 1000 metros golpeara la Tierra, causaría mucho daño.\n",
    "También discutimos en el ejercicio anterior que:\n",
    "\n",
    "La velocidad del asteroide varía en función de lo cerca que esté del sol, y cualquier velocidad superior a 25 kilómetros por segundo (km/s) merece una advertencia.\n",
    "Si un asteroide entra en la atmósfera de la Tierra a una velocidad mayor o igual a 20 km/s, a veces produce un rayo de luz que se puede ver desde la Tierra."
   ]
  },
  {
   "cell_type": "code",
   "execution_count": 4,
   "metadata": {},
   "outputs": [
    {
     "name": "stdout",
     "output_type": "stream",
     "text": [
      "EL asteroide es visible\n"
     ]
    }
   ],
   "source": [
    "tamaño_asteroide= 25\n",
    "velocidad_asteroide = 25\n",
    "\n",
    "if tamaño_asteroide >25 and velocidad_asteroide>25:\n",
    "    print(\"ASTEROIDE EN CAMINO\")\n",
    "elif velocidad_asteroide >=20 :\n",
    "    print(\"EL asteroide es visible\")\n",
    "elif tamaño_asteroide < 25:\n",
    "    print(\"NADA\")\n",
    "else:\n",
    "    print(\"NADA\")"
   ]
  }
 ],
 "metadata": {
  "interpreter": {
   "hash": "6b2a987075f3744d1a9eebf2fd6b26628d6b796ff7d38fa70ab961f560a3395e"
  },
  "kernelspec": {
   "display_name": "Python 3.10.2 64-bit (windows store)",
   "language": "python",
   "name": "python3"
  },
  "language_info": {
   "codemirror_mode": {
    "name": "ipython",
    "version": 3
   },
   "file_extension": ".py",
   "mimetype": "text/x-python",
   "name": "python",
   "nbconvert_exporter": "python",
   "pygments_lexer": "ipython3",
   "version": "3.10.2"
  },
  "orig_nbformat": 4
 },
 "nbformat": 4,
 "nbformat_minor": 2
}
